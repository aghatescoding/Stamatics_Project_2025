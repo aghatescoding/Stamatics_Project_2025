{
 "cells": [
  {
   "cell_type": "markdown",
   "id": "0ef608b6-0ce5-469b-a248-2923ee7ff513",
   "metadata": {},
   "source": [
    "Finding Eigenvalues, Eigenvectors plays a crucial role in many places from data science to numerical analysis.                                             \n",
    "The \"pen-paper\" way to find eigenvectors and eigenvalues is to find the characteristic matrix via-                                                          $$\n",
    "\\det\\!\\bigl(A - \\lambda I\\bigr) \\;=\\; 0\n",
    "$$\n",
    "$$\n",
    "\\det\n",
    "\\begin{pmatrix}\n",
    "a_{11}-\\lambda & a_{12}         & a_{13} \\\\\n",
    "a_{21}         & a_{22}-\\lambda & a_{23} \\\\\n",
    "a_{31}         & a_{32}         & a_{33}-\\lambda\n",
    "\\end{pmatrix}\n",
    "=0\n",
    "$$\n",
    "$$\n",
    "On expanding this we get \\lambda^3-(a_{11}+a_{22}+a_{33})\\lambda^2+(a_{\n",
    "$$"
   ]
  },
  {
   "cell_type": "markdown",
   "id": "c1d0d58e-bab3-430f-8712-f09b4359f05a",
   "metadata": {},
   "source": [
    "Let’s try to find the most **dominant** eigenvalue, by **dominant** we mean the $\\lambda_j$ such that $\\forall i\\neq j,\\;|\\lambda_i|\\le|\\lambda_j|$."
   ]
  },
  {
   "cell_type": "code",
   "execution_count": 14,
   "id": "018dc20d-2dc7-4eca-995d-f11f48e6025b",
   "metadata": {},
   "outputs": [
    {
     "name": "stdout",
     "output_type": "stream",
     "text": [
      "Iteration 1\n",
      "  Estimated Eigenvalue λ_1 ≈ 7.6158\n",
      "  v_1 ≈ [-0.92847669 -0.37139068]\n",
      "\n",
      "Iteration 2\n",
      "  Estimated Eigenvalue λ_2 ≈ 2.7606\n",
      "  v_2 ≈ [0.94174191 0.3363364 ]\n",
      "\n",
      "Iteration 3\n",
      "  Estimated Eigenvalue λ_3 ≈ 2.2762\n",
      "  v_3 ≈ [-0.9456866  -0.32507977]\n",
      "\n",
      "Iteration 4\n",
      "  Estimated Eigenvalue λ_4 ≈ 2.1214\n",
      "  v_4 ≈ [0.94728103 0.32040388]\n",
      "\n",
      "Iteration 5\n",
      "  Estimated Eigenvalue λ_5 ≈ 2.0573\n",
      "  v_5 ≈ [-0.94800398 -0.31825848]\n",
      "\n",
      "Iteration 6\n",
      "  Estimated Eigenvalue λ_6 ≈ 2.0278\n",
      "  v_6 ≈ [0.94834884 0.31722937]\n",
      "\n",
      "[0.94834884 0.31722937]\n"
     ]
    }
   ],
   "source": [
    "import numpy as np\n",
    "\n",
    "def power_method(A, x0, iterations=6):\n",
    "    x = x0.astype(float)\n",
    "    prev_norm = np.linalg.norm(x)\n",
    "    for k in range(1, iterations+1):\n",
    "        x = A @ x\n",
    "        curr_norm = np.linalg.norm(x)\n",
    "        lam = curr_norm / prev_norm\n",
    "        v = x / curr_norm       # normalized eigenvector estimate\n",
    "        print(f\"Iteration {k}\")\n",
    "        print(f\"  Estimated Eigenvalue λ_{k} ≈ {lam:.4f}\")\n",
    "        print(f\"  v_{k} ≈ {v}\\n\")\n",
    "        prev_norm = curr_norm\n",
    "    return x/np.linalg.norm(x)\n",
    "\n",
    "if __name__ == \"__main__\":\n",
    "    A = np.array([[ 2, -12],\n",
    "                  [ 1,  -5]])\n",
    "    x0 = np.array([1, 1])\n",
    "    x_f=power_method(A, x0)\n",
    "    print(x_f)\n",
    "    "
   ]
  },
  {
   "cell_type": "code",
   "execution_count": 8,
   "id": "b71f927e-27f2-4df6-9561-80ed72ef2d27",
   "metadata": {},
   "outputs": [
    {
     "name": "stdout",
     "output_type": "stream",
     "text": [
      "0.9999999977599712\n"
     ]
    }
   ],
   "source": [
    "print(np.linalg.norm([0.94834884,0.31722937]))"
   ]
  },
  {
   "cell_type": "markdown",
   "id": "b860f49c-5453-4b42-897a-ede1aff19115",
   "metadata": {},
   "source": [
    "# Power Method — Quick Intuition\n",
    "\n",
    "What's happening?\n",
    "An eigenvector $$\\vec v$$ satisfies  \n",
    "$$A\\vec v=\\lambda\\vec v$$  \n",
    "so applying $A$ repeatedly to any $\\vec x_0$ amplifies the dominant direction.\n",
    "\n",
    "---\n",
    "\n",
    "Start with $\\vec x_0$, then  \n",
    "$$\\vec x_k=A^k\\vec x_0.$$  \n",
    "If $|\\lambda_1|>|\\lambda_i|$ for all $i\\neq1$, then $\\vec x_k$ → direction of the dominant eigenvector.\n",
    "\n",
    "Estimate the dominant eigenvalue by the **growth ratio**:  \n",
    "$$\n",
    "\\lambda_k\\approx\\frac{\\|\\vec x_k\\|}{\\|\\vec x_{k-1}\\|}.\n",
    "$$\n",
    "\n",
    "Normalize $\\vec x_k$ (e.g.\\ divide by its norm) each step to keep values stable.\n",
    "\n",
    "---\n",
    "\n",
    "**Summary**  \n",
    "- Multiply: $\\vec x_k=A\\vec x_{k-1}$.  \n",
    "- Ratio: $\\|\\vec x_k\\|/\\|\\vec x_{k-1}\\|\\to\\lambda_1$.  \n",
    "- Normalize to track the eigenvector direction.  \n"
   ]
  },
  {
   "cell_type": "markdown",
   "id": "3f7c6f8b-666a-4c0f-a6a4-dd70e727e06e",
   "metadata": {},
   "source": [
    "**Assignment** Can you think of a clever approach to find the second largest eigenvalue, think about **removing** the effect of the most **dominant** eigenvalue/vector pair...."
   ]
  },
  {
   "cell_type": "markdown",
   "id": "47064ae5-ad93-428c-833c-e4e1ec483e3f",
   "metadata": {},
   "source": [
    "<details>\n",
    "  <summary>Show power-method code</summary>\n",
    "\n",
    "  ```python\n",
    "  import numpy as np\n",
    "\n",
    "  def power_method(A, x0, iterations=20):\n",
    "      x = x0 / np.linalg.norm(x0)\n",
    "      for _ in range(iterations):\n",
    "          x = A @ x\n",
    "          x = x / np.linalg.norm(x)\n",
    "      lam = float(x @ (A @ x))\n",
    "      return x, lam\n",
    "\n",
    "  A = np.array([[ 2, -1,  0],\n",
    "                [-1,  2, -1],\n",
    "                [ 0, -1,  2]], float)\n",
    "  v1, λ1 = power_method(A, np.random.rand(3))\n",
    "  A1    = A - λ1 * np.outer(v1, v1)\n",
    "  v2, λ2 = power_method(A1, np.random.rand(3))\n",
    "\n",
    "  print(\"λ1 =\", λ1)\n",
    "  print(\"λ2 =\", λ2)\n"
   ]
  },
  {
   "cell_type": "code",
   "execution_count": null,
   "id": "95bd011c-46e8-4178-ad17-1943a1e37ce1",
   "metadata": {},
   "outputs": [],
   "source": [
    "\n",
    "\n",
    "\n",
    "\n"
   ]
  },
  {
   "cell_type": "markdown",
   "id": "f4609ad7-b22b-4e91-8d82-4108942b549f",
   "metadata": {},
   "source": [
    "Say you think $A$ has an eigenvalue near 3. Do this:\n",
    "\n",
    "1. Pick the number 3 as your **shift**: set $\\mu = 3$.  \n",
    "2. Build a new matrix $M = (A - 3I)^{-1}$.  \n",
    "3. Now, in $M$, the eigenvalue that was closest to 3 in $A$ becomes the **biggest** eigenvalue in $M$.  \n",
    "4. Run the usual Power/Inverse method on $M$—it will quickly find that eigenvalue and its vector.\n"
   ]
  },
  {
   "cell_type": "code",
   "execution_count": 26,
   "id": "b4e4adb8-c5b4-43bb-9d78-600c6230cf61",
   "metadata": {},
   "outputs": [
    {
     "name": "stdout",
     "output_type": "stream",
     "text": [
      "Approximate eigenvector: [-0.97016342 -0.24245194]\n",
      "Approximate eigenvalue: -0.9988785766190857\n"
     ]
    }
   ],
   "source": [
    "import numpy as np\n",
    "\n",
    "def shift_invert_method(A, x0, mu, iterations=20):\n",
    "    \"\"\"\n",
    "    Inverse iteration (shift-invert) to find an eigenpair of A near shift mu.\n",
    "    Returns approximate eigenvector v and eigenvalue lambda ≈ v^T A v.\n",
    "    \"\"\"\n",
    "    n = A.shape[0]\n",
    "    B = A - mu * np.eye(n)\n",
    "    x = x0.astype(float)\n",
    "    x /= np.linalg.norm(x)\n",
    "\n",
    "    for _ in range(iterations):\n",
    "        # Solve (A - mu I) y = x\n",
    "        y = np.linalg.solve(B, x)\n",
    "        # Normalize\n",
    "        x = y / np.linalg.norm(y)\n",
    "\n",
    "    # Rayleigh quotient gives the eigenvalue of A\n",
    "    lam = float(x @ (A @ x))\n",
    "    return x, lam\n",
    "\n",
    "if __name__ == \"__main__\":\n",
    "    A = np.array([[ 2, -12],\n",
    "                  [ 1,  -5]])\n",
    "    x0 = np.array([1, 1])\n",
    "    mu = 0.0   # e.g. target eigenvalue near 0\n",
    "    v, λ = shift_invert_method(A, x0, mu, iterations=10)\n",
    "    print(\"Approximate eigenvector:\", v)\n",
    "    print(\"Approximate eigenvalue:\", λ)\n"
   ]
  },
  {
   "cell_type": "code",
   "execution_count": 32,
   "id": "07639281-4f08-46c2-8b0d-6c151d7c5c4e",
   "metadata": {},
   "outputs": [
    {
     "name": "stdout",
     "output_type": "stream",
     "text": [
      "[0.96909639 0.24209626]\n",
      "[0.96907545 0.24218004]\n",
      "8.636064842104585e-05\n"
     ]
    }
   ],
   "source": [
    "print(np.dot(A,v))\n",
    "print(λ*v)\n",
    "print(np.linalg.norm((np.dot(A,v))-λ*v))"
   ]
  },
  {
   "cell_type": "markdown",
   "id": "9ea66251-15c3-4abf-bb38-d4957282760b",
   "metadata": {},
   "source": [
    "# Shift-Invert Method — Why It Works\n",
    "\n",
    "We want an eigenvalue $\\lambda_j$ of $A$ **closest** to a chosen shift $\\mu$.  Define\n",
    "$$\n",
    "M \\;=\\;(A - \\mu I)^{-1}.\n",
    "$$\n",
    "If $Av_j=\\lambda_j v_j$, then\n",
    "$$\n",
    "M v_j \\;=\\;\\frac{1}{\\lambda_j - \\mu}\\,v_j.\n",
    "$$\n",
    "Hence the **largest-magnitude** eigenvalue of $M$ corresponds to the $\\lambda_j$ nearest to $\\mu$.\n",
    "\n",
    "---\n",
    "\n",
    "### Algorithm Sketch\n",
    "\n",
    "1. **Choose** a shift $\\mu$ near your target eigenvalue.  \n",
    "2. **Start** with any nonzero $x_0$.  \n",
    "3. **Repeat** for $k=1,2,\\dots$:\n",
    "   - Solve \n",
    "     $$\n",
    "     (A - \\mu I)\\,y = x_{k-1}\n",
    "     $$\n",
    "     (e.g.\\ via `np.linalg.solve`).\n",
    "   - Normalize \n",
    "     $$\n",
    "     x_k = \\frac{y}{\\|y\\|}.\n",
    "     $$\n",
    "4. **At convergence**, use the Rayleigh quotient to recover  \n",
    "   $$\n",
    "   \\lambda \\approx \\frac{x_k^T A\\,x_k}{x_k^T x_k}\\,.\n",
    "   $$\n",
    "\n",
    "---\n",
    "\n",
    "### Key Points\n",
    "\n",
    "- **Spectrum flip**: small $|\\lambda_j-\\mu|$ ⇒ large $1/(\\lambda_j-\\mu)$ ⇒ dominates in $M$.  \n",
    "- **No big determinants**: you only solve linear systems and normalize.  \n",
    "- **Flexible**: by varying $\\mu$ you can home in on *any* part of the spectrum.\n",
    "\n"
   ]
  },
  {
   "cell_type": "markdown",
   "id": "2e942756-5476-44cc-9545-36e911149859",
   "metadata": {},
   "source": [
    "# Assignment: Applying the Shift-Invert Method\n",
    "\n",
    "Given the matrix:\n",
    "\n",
    "$$\n",
    "A = \\begin{bmatrix}\n",
    "4 & 1 & 0 \\\\\n",
    "1 & 3 & 1 \\\\\n",
    "0 & 1 & 2 \\\\\n",
    "\\end{bmatrix}\n",
    "$$\n",
    "\n",
    "**Tasks:**\n",
    "\n",
    "1. Estimate the eigenvalue of $A$ closest to $\\mu = 2.5$ using the Shift-Invert Method.\n",
    "2. Estimate the eigenvalue of $A$ closest to $\\mu = 4.5$ using the Shift-Invert Method.\n",
    "\n",
    "Use an appropriate initial guess for each task and perform several iterations (e.g., 5–10) to approximate the eigenvalue and its corresponding eigenvector.\n"
   ]
  },
  {
   "cell_type": "code",
   "execution_count": null,
   "id": "577352fb-3a86-478d-8a1e-d7c8f71f841f",
   "metadata": {},
   "outputs": [],
   "source": []
  }
 ],
 "metadata": {
  "kernelspec": {
   "display_name": "Python 3 (ipykernel)",
   "language": "python",
   "name": "python3"
  },
  "language_info": {
   "codemirror_mode": {
    "name": "ipython",
    "version": 3
   },
   "file_extension": ".py",
   "mimetype": "text/x-python",
   "name": "python",
   "nbconvert_exporter": "python",
   "pygments_lexer": "ipython3",
   "version": "3.11.3"
  }
 },
 "nbformat": 4,
 "nbformat_minor": 5
}
